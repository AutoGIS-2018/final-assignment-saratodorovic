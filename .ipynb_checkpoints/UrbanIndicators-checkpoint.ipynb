{
 "cells": [
  {
   "cell_type": "markdown",
   "metadata": {},
   "source": [
    "### Automating GIS Processes 2018: Final Project work  \n",
    " Sara Todorovic, January 2019\n",
    "\n",
    "## **Analysis of Urban Design and Structure in Different Neighborhoods**\n",
    "\n",
    "Actual codes and visualizations to produce the results\n",
    "Description of the results (what should we understand and see from them?)\n",
    "Evaluate with healthy criticism the indicators, data and the analyses - What kind of assumptions, biases or uncertainties are related to the data and/or the analyses that you did? - Any other notes that the reader should know about the analysis.\n",
    "\n",
    "### **1 Introduction**  \n",
    "\n",
    "Analysing and comparing urban design and structure of different neighborhoods within a city can shed new light in understanding the city dynamics. Urban street networks show the structure of the neighborhood, and tell many stories about how densely built or inhabited the area is, and what kind of city and road network planning has been implemented in the area. Street network characteristics vary greatly in metropolitan and municipal levels, but as [Geoff Boeing states](https://journals.sagepub.com/doi/10.1177/2399808318784595), analysing street networks in neighborhood level reveals more individual urban design inventions as well as historical paradigms in the area. \n",
    "\n",
    "Thus I am interested in finding out visual and structural differences between neighborhoods in Helsinki municipality by creating tools to analyse urban design and structure by using [Geoff Boeing's OSMnx toolbox](https://www.sciencedirect.com/science/article/pii/S0198971516303970) to download and analyze street networks at metropolitan, municipal, and neighborhood scales. My aim is to create tools to analyse the following characteristics: \n",
    "\n",
    "- Comparing urban network structure in different suburbs  \n",
    "- Comparing betweenness centrality  \n",
    "- Visualizing street network and building structure\n",
    "\n",
    "The tools created in this work should be applicable to any neighborhood with a street network - as well as whole cities, and the areas should be found in the [Open Street Map Nominatim](https://nominatim.openstreetmap.org).  \n",
    "\n",
    "***\n",
    "\n",
    "### **2 Data**  \n",
    "\n",
    "All data used in this work is downloaded from Open Street Map using OSMnx tools by Geoff Boeing. Help and ideas are from Geoff Boeing's [GitHub repository](https://github.com/gboeing/osmnx-examples/tree/master/notebooks).  \n",
    "\n",
    "***\n",
    "\n",
    "### **3 Methods**  \n",
    "\n",
    "I have created functions to form different indicators for urban design analysis. Functions will be presented one by one in the following section. Scripts are also stored in the *urban_indicators.py* -file, and the functions will be used in the results section with examples to analyse urban structure of chosen neighborhoods. \n",
    "\n",
    "I use following Python libraries in my codes: OSMnx, Geopandas, Pandas, Numpy and Matplotlib. The aim was to produce functions that only take in a list of place names, and as a result give a visual representation of each place. I combine materials taught in the Geo-Python and Automating GIS processes courses, online materials and Geoff Boeing's work. \n",
    "\n",
    "The results are divided into following indicators:  \n",
    "\n",
    "- **Street network orientation**  \n",
    "- **Building density**  \n",
    "- **Visualizing building footprints**  \n",
    "\n",
    "In this section I present the functions and their documentation, and use examples in the results section.\n",
    "\n",
    "\n"
   ]
  },
  {
   "cell_type": "markdown",
   "metadata": {},
   "source": [
    "#### First steps"
   ]
  },
  {
   "cell_type": "markdown",
   "metadata": {},
   "source": [
    "First the necessary Python modules will be brought into the notebook. \n"
   ]
  },
  {
   "cell_type": "code",
   "execution_count": 14,
   "metadata": {},
   "outputs": [],
   "source": [
    "import osmnx as ox \n",
    "import geopandas as gpd\n",
    "import pandas as pd\n",
    "import numpy as np\n",
    "import matplotlib.pyplot as plt\n",
    "%matplotlib inline\n",
    "from IPython.display import Image"
   ]
  },
  {
   "cell_type": "markdown",
   "metadata": {},
   "source": [
    "### Functions"
   ]
  },
  {
   "cell_type": "markdown",
   "metadata": {},
   "source": [
    "**1. Geodataframe function**  \n",
    "This function creates a geodataframe from a list of placenames by fetching it from OSM."
   ]
  },
  {
   "cell_type": "code",
   "execution_count": 5,
   "metadata": {},
   "outputs": [],
   "source": [
    "def urban_gdf(placenames):\n",
    "    \"\"\"\n",
    "    Function for downloading a geodataframe from OSM from a list of places.\n",
    "\n",
    "    Parameters\n",
    "    ----------\n",
    "    placenames: <list>\n",
    "        List of places.\n",
    "    Returns\n",
    "    -------\n",
    "    <geodataframe>\n",
    "        Geodataframe containing geometry of the places.\n",
    "    \"\"\" \n",
    "    # Using the function:\n",
    "    # Fetch geodataframe from OSM\n",
    "    gdf = ox.gdf_from_places(placenames)\n",
    "    # Return geodataframe\n",
    "    return gdf"
   ]
  },
  {
   "cell_type": "markdown",
   "metadata": {},
   "source": [
    "**2. Graph list function**  \n",
    "Function for downloading the networks as a list of graphs from OSM for a given list of place names  \n"
   ]
  },
  {
   "cell_type": "code",
   "execution_count": 45,
   "metadata": {},
   "outputs": [],
   "source": [
    "def urban_getNetwork(placenames, nwtype):\n",
    "    \"\"\"\n",
    "    Function for downloading networks as a list of graphs from OSM for a given list of place names\n",
    "\n",
    "    Parameters\n",
    "    ----------\n",
    "    placenames: <list>\n",
    "        List of places.\n",
    "\n",
    "    Returns\n",
    "    -------\n",
    "    <list>\n",
    "        List containing graphs fetched from OSM.\n",
    "    \"\"\" \n",
    "    # Using the function: \n",
    "    \n",
    "    # Empty list for the graphs that will be downloaded\n",
    "    places_graph = []\n",
    "    \n",
    "    # For each place in the list of given placenames,\n",
    "    for place in placenames:\n",
    "        # Fetch the graph with the network type of choice\n",
    "        graph = ox.graph_from_place(place, network_type = nwtype)\n",
    "        # Add to the list\n",
    "        places_graph.append(graph)\n",
    "        \n",
    "    # Return the list containing the graphs    \n",
    "    return places_graph "
   ]
  },
  {
   "cell_type": "markdown",
   "metadata": {},
   "source": [
    "#### Network structure"
   ]
  },
  {
   "cell_type": "markdown",
   "metadata": {},
   "source": [
    "**3. Visualising street network function**  \n",
    "This function visualises the street networks for a given list of place names.  "
   ]
  },
  {
   "cell_type": "code",
   "execution_count": 41,
   "metadata": {},
   "outputs": [],
   "source": [
    "def urban_visNetwork(placenames, nwtype):\n",
    "    \"\"\"\n",
    "    Function for visualising networks as a list of graphs from OSM for a given list of place names\n",
    "\n",
    "    Parameters\n",
    "    ----------\n",
    "    placenames: <list>\n",
    "        List of places.\n",
    "    nwtype: <string>\n",
    "        Defines the network type that is downloaded from OSM.\n",
    "    Returns\n",
    "    -------\n",
    "    <plot>\n",
    "        Plots the street network of each place in the list of place names.\n",
    "    \"\"\" \n",
    "    # Using the function:\n",
    "    \n",
    "    # For each place in a list of placenames\n",
    "    for place in placenames:\n",
    "        \n",
    "        # Create the graphs\n",
    "        graph = ox.graph_from_place(place, network_type = nwtype)\n",
    "        \n",
    "        # Print the placename for each graph\n",
    "        print(graph)\n",
    "        \n",
    "        # Return the street network\n",
    "        ax = ox.plot_graph(ox.project_graph(graph), node_size=0)"
   ]
  },
  {
   "cell_type": "markdown",
   "metadata": {},
   "source": [
    "**4. Urban bearings function**  \n",
    "This function calculates the edge bearings of the street network of a given list of places, and produces graphs showing the bearings of the network. Edge bearings show the direction of the roads inside the network, and thus by analysing it it can show a lot about the road network planning, for instance.  "
   ]
  },
  {
   "cell_type": "code",
   "execution_count": 16,
   "metadata": {},
   "outputs": [],
   "source": [
    "def urban_bearings(placenames, nwtype, color):\n",
    "    \"\"\"\n",
    "    Function for visualising the street network edge bearings as graphs.\n",
    "    Produces as many graphs as there as components in the input list.\n",
    "\n",
    "    Parameters\n",
    "    ----------\n",
    "    placenames: <list>\n",
    "        List of places.\n",
    "    nwtype: <string>\n",
    "        Defines the network type that is downloaded from OSM.\n",
    "    color: <string>\n",
    "        Defines the color of the graph.\n",
    "    Returns\n",
    "    -------\n",
    "    <graph>\n",
    "        Graphs of the street network edge bearings.\n",
    "    \"\"\" \n",
    "    # Using the function:\n",
    "    \n",
    "    # For each place in the list of given placenames,\n",
    "    for place in placenames:\n",
    "        \n",
    "        # Create a variable G where you store the graph from the network\n",
    "        G = ox.graph_from_place(place, network_type=nwtype)\n",
    "        \n",
    "        # Add edge bearings to G\n",
    "        G = ox.add_edge_bearings(G)\n",
    "        \n",
    "        # Calculate edge bearings from the graph's edges\n",
    "        bearings = pd.Series([data['bearing'] for u, v, k, data in G.edges(keys=True, data=True)])\n",
    "        \n",
    "        # Create a histogram and define parameters\n",
    "        ax = bearings.hist(bins=30, zorder=2, alpha=0.8, color=color)\n",
    "        \n",
    "        # Set xlim as 360 (circle is 360 degrees)\n",
    "        xlim = ax.set_xlim(0, 360)\n",
    "        \n",
    "        # Set the placename as the title of each individual graph in the list\n",
    "        ax.set_title(place)\n",
    "        \n",
    "        # Show each graph\n",
    "        plt.show()"
   ]
  },
  {
   "cell_type": "markdown",
   "metadata": {},
   "source": [
    "**5. Polar plot function of edge bearings**  \n",
    "This function creates polar plots of each place in a given list of place names. Polar plots can show very nicely and visually the street network orientation and allows the comparison between different kind of network structure. "
   ]
  },
  {
   "cell_type": "code",
   "execution_count": 73,
   "metadata": {},
   "outputs": [],
   "source": [
    "def urban_polarPlot(placenames, nwtype, color):\n",
    "    \"\"\"\n",
    "    Function for visualising the street network edge bearings as polar plots,\n",
    "    where the place's street network's edge bearings are spread as a circle of 0 to 360 degrees, \n",
    "    value indicating the orientation of the street.\n",
    "    \n",
    "    Produces as many polar plots as there as components in the input list.\n",
    "\n",
    "    Parameters\n",
    "    ----------\n",
    "    placenames: <list>\n",
    "        List of places.\n",
    "    nwtype: <string>\n",
    "        Defines the network type that is downloaded from OSM.\n",
    "    color: <string>\n",
    "        Defines the color of the graph.\n",
    "    Returns\n",
    "    -------\n",
    "    <graph>\n",
    "        Graphs of the street network edge bearings.\n",
    "    \"\"\" \n",
    "    # Using the function:\n",
    "    \n",
    "    # For each place in the list of given placenames,\n",
    "    for place in placenames:\n",
    "        \n",
    "        # Create a variable G where you store the graph from the network\n",
    "        G = ox.graph_from_place(place, network_type=nwtype)\n",
    "        # Add edge bearings to G\n",
    "        G = ox.add_edge_bearings(G)\n",
    "        # Calculate edge bearings from the graph's edges\n",
    "        bearings = pd.Series([data['bearing'] for u, v, k, data in G.edges(keys=True, data=True)])\n",
    "        \n",
    "        # Create a numpy histogram with 360 degrees\n",
    "        n = 30\n",
    "        count, division = np.histogram(bearings, bins=[ang*360/n for ang in range(0,n+1)])\n",
    "        division = division[0:-1]\n",
    "        # Setting width to be visually nice\n",
    "        width =  2 * np.pi/n\n",
    "        # Set the projection to polar, and axis zero location and direction\n",
    "        ax = plt.subplot(111, projection='polar')\n",
    "        ax.set_theta_zero_location('N')\n",
    "        ax.set_theta_direction('clockwise')\n",
    "        \n",
    "        # Axis bars\n",
    "        bars = ax.bar(division * np.pi/180 - width * 0.5 , count, width=width, bottom=0.0, color=color)\n",
    "        ax.set_title(place, y=1.1)\n",
    "        # Set x tick labels to North, East, South and West\n",
    "        xticklabels = ['N', '', 'E', '', 'S', '', 'W', '']\n",
    "        ax.set_xticklabels(labels=xticklabels)\n",
    "        \n",
    "        plt.show()\n",
    "        "
   ]
  },
  {
   "cell_type": "markdown",
   "metadata": {},
   "source": [
    "#### Building density and footprint visualisation"
   ]
  },
  {
   "cell_type": "markdown",
   "metadata": {},
   "source": [
    "**6. Building density function**  \n",
    "This function takes in a list of place names, and calculates the building footprint within the area limits and returns the area covered in buildings, as well as the building density (proportion of building area in the area, %).  \n"
   ]
  },
  {
   "cell_type": "code",
   "execution_count": 35,
   "metadata": {},
   "outputs": [],
   "source": [
    "def urban_bdensity(placenames):\n",
    "    \"\"\"\n",
    "    Function that calculates the building density within the area limits of the places, \n",
    "    that are given to the function as the input.\n",
    "\n",
    "    Parameters\n",
    "    ----------\n",
    "    placenames: <list>\n",
    "        List of places.\n",
    "    Returns\n",
    "    -------\n",
    "    <print>\n",
    "        Returns a print stating the name of the place, \n",
    "        the are covered in buildings (m2) within the area limits, \n",
    "        and the proportion of buildings in the area (%).\n",
    "    \"\"\" \n",
    "    # Using the function:\n",
    "    \n",
    "    # For each place in the list of given placenames,\n",
    "    for place in placenames:\n",
    "        \n",
    "        #Download the buildings from the place\n",
    "        gdf = ox.buildings_from_place(place)\n",
    "        \n",
    "        #Project the geodataframe\n",
    "        gdf_proj = ox.project_gdf(gdf)\n",
    "\n",
    "        # Calculate the area of building footprint\n",
    "        areas = gdf_proj.area\n",
    "        \n",
    "        # Sum of the total building areas\n",
    "        areasum = sum(areas)\n",
    "        \n",
    "        # Get geodataframe of the place and project it\n",
    "        place_a = ox.gdf_from_place(place)\n",
    "        place_proj = ox.project_gdf(place_a)\n",
    "        \n",
    "        # Calculate building area (m2)\n",
    "        building_area = place_proj.area.iloc[0]\n",
    "        \n",
    "        # Calculate building density\n",
    "        building_density = areasum / building_area\n",
    "        \n",
    "        # Return a print of the place, area covered in buildings (m2) and proportion of buildings (%)\n",
    "        print(place, \": Area covered in buildings is \", \n",
    "              round(building_area, 3), \n",
    "              'm2 and the proportion of buildings in total is', \n",
    "              round(building_density*100, 3), \"%.\")\n",
    "    "
   ]
  },
  {
   "cell_type": "markdown",
   "metadata": {},
   "source": [
    "**7. Urban neighborhood visualisation function**  \n",
    "This function creates an urban visualisation of the building footprint and street network from each place from a list, that is given as an input. User also defines the street network type, color is default. In the end, the function saves each plot to images-folder. "
   ]
  },
  {
   "cell_type": "code",
   "execution_count": 94,
   "metadata": {},
   "outputs": [],
   "source": [
    "def urban_plotmaker(placenames, nwtype, color = 'orange'):\n",
    "    \"\"\"\n",
    "    Function that visualizes the building footprint and \n",
    "    street network from each place from the input list.\n",
    "\n",
    "    Parameters\n",
    "    ----------\n",
    "    placenames: <list>\n",
    "        List of places.\n",
    "    nwtype: <string>\n",
    "        Defines the network type that is downloaded from OSM.\n",
    "    Returns\n",
    "    -------\n",
    "    <graph>\n",
    "        Returns a graph of the building footprint, area footprint and the street network with a title.\n",
    "        Saves the figure in the images-folder.\n",
    "    \"\"\" \n",
    "    # Using the function:\n",
    "    \n",
    "    # For each place in the list of given placenames,\n",
    "    for place in placenames:\n",
    "        # Retrieve area footprint as a geodataframe and reproject it\n",
    "        area = ox.project_gdf(ox.gdf_from_place(place))\n",
    "\n",
    "        # Retrieve building footprint as a geodataframe and reproject it\n",
    "        buildings = ox.project_gdf(ox.buildings_from_place(place))\n",
    "        \n",
    "        # Retrieve the street network as a geodataframe and reproject it\n",
    "        graph= ox.graph_from_place(place, network_type=nwtype)\n",
    "        nodes, edges = ox.graph_to_gdfs(graph)\n",
    "        edges_proj = ox.project_gdf(edges)\n",
    "        \n",
    "        # Plot the area, network and buildings\n",
    "        ax = area.plot(facecolor='black', figsize=(8,8))\n",
    "        edges_proj.plot(ax=ax, color='white', linewidth=0.7, alpha = 0.7)\n",
    "        buildings.plot(ax=ax, facecolor=color)\n",
    "        \n",
    "        # Set title font and bolding\n",
    "        title_font = {'size':18, 'weight':'bold'}\n",
    "        \n",
    "        # Set title\n",
    "        ax.set_title(place, fontdict = title_font)\n",
    "        \n",
    "        # Turn the axis off from the plot\n",
    "        ax.set_axis_off()\n",
    "        \n",
    "        # Set the filename (split the string so the name has only the first part)\n",
    "        filename = 'urban-structure-'+ place.split(',', 1)[0]+'.png'\n",
    "        \n",
    "        # Save the figure\n",
    "        plt.savefig('images/'+filename, dpi=120)\n",
    "        "
   ]
  },
  {
   "cell_type": "markdown",
   "metadata": {},
   "source": [
    "***\n",
    "### **4 Results**\n",
    "\n",
    "In this section I present examples of two neighborhoods in Helsinki, Finland by using the created functions to analyse urban structure of these neighborhoods. The ultimate goal of these functions is to enable repetition, therefore I will present examples of different target neighborhoods, a longer list of variables and a comparison between different cities.  \n",
    "\n"
   ]
  },
  {
   "cell_type": "markdown",
   "metadata": {},
   "source": [
    "#### Area of interest  \n",
    "To start with the analysis, determine the area of interest as a *list*. Places should be found in the Open Street Map Nominatim for meaningful results. "
   ]
  },
  {
   "cell_type": "code",
   "execution_count": null,
   "metadata": {},
   "outputs": [],
   "source": [
    "# Determine places of interest and save them to variable 'places'\n",
    "places = ['Kamppi, Helsinki, Finland', 'Herttoniemi, Helsinki, Finland']"
   ]
  },
  {
   "cell_type": "markdown",
   "metadata": {},
   "source": [
    "Next we would like to look at the areas as a geodataframe, just to be sure the places actually exist. \n",
    "For that, we use a function **urban_gdf**.  \n",
    "Using the function **urban_gdf:**"
   ]
  },
  {
   "cell_type": "code",
   "execution_count": null,
   "metadata": {},
   "outputs": [],
   "source": [
    "# Create geodataframe using a function\n",
    "gdf = urban_gdf(places)"
   ]
  },
  {
   "cell_type": "code",
   "execution_count": null,
   "metadata": {},
   "outputs": [],
   "source": [
    "# See how it looks like\n",
    "gdf"
   ]
  },
  {
   "cell_type": "markdown",
   "metadata": {},
   "source": [
    "***\n",
    "### Network structure and orientation  \n",
    "#### Network structure  \n",
    "\n",
    "The functions used in this sections are used to display the street network structure, and the orientation of the street network in the area of interest. \n",
    "\n",
    "Something about the examples of kamppi and herttoniemi\n",
    "\n",
    "\n"
   ]
  },
  {
   "cell_type": "markdown",
   "metadata": {},
   "source": [
    "Using function **urban_getNetwork** to fetch graphs for each place in the list:"
   ]
  },
  {
   "cell_type": "code",
   "execution_count": null,
   "metadata": {},
   "outputs": [],
   "source": [
    "# Function input is a list of placenames\n",
    "graphs = urban_getNetwork(places)\n",
    "graphs"
   ]
  },
  {
   "cell_type": "markdown",
   "metadata": {},
   "source": [
    "* We can see that the output is a list containing two multigraphs, because there are two places in the list (Kamppi and Herttoniemi).  \n",
    "\n"
   ]
  },
  {
   "cell_type": "markdown",
   "metadata": {},
   "source": [
    "Using function **urban_visNetwork** to visualise street networks of a given list of place names:"
   ]
  },
  {
   "cell_type": "code",
   "execution_count": 112,
   "metadata": {},
   "outputs": [
    {
     "name": "stdout",
     "output_type": "stream",
     "text": [
      "Kamppi, Helsinki, Finland\n"
     ]
    },
    {
     "data": {
      "image/png": "[encoded data removed]",
      "text/plain": [
       "<Figure size 473.235x432 with 1 Axes>"
      ]
     },
     "metadata": {},
     "output_type": "display_data"
    },
    {
     "name": "stdout",
     "output_type": "stream",
     "text": [
      "Herttoniemi, Helsinki, Finland\n"
     ]
    },
    {
     "data": {
      "image/png": "[encoded data removed]",
      "text/plain": [
       "<Figure size 335.628x432 with 1 Axes>"
      ]
     },
     "metadata": {},
     "output_type": "display_data"
    }
   ],
   "source": [
    "# In the function define a list of placenames and network type\n",
    "# in this case it is 'drive' for driveable roads.\n",
    "network = urban_visNetwork(places, nwtype = 'drive')\n",
    "network"
   ]
  },
  {
   "cell_type": "code",
   "execution_count": 3,
   "metadata": {},
   "outputs": [],
   "source": []
  },
  {
   "cell_type": "markdown",
   "metadata": {},
   "source": [
    "Markdown"
   ]
  },
  {
   "cell_type": "code",
   "execution_count": 4,
   "metadata": {},
   "outputs": [],
   "source": []
  },
  {
   "cell_type": "markdown",
   "metadata": {},
   "source": [
    "Markdown"
   ]
  },
  {
   "cell_type": "code",
   "execution_count": 5,
   "metadata": {},
   "outputs": [
    {
     "data": {
      "text/plain": [
       "[<networkx.classes.multidigraph.MultiDiGraph at 0x7fc98e583b70>,\n",
       " <networkx.classes.multidigraph.MultiDiGraph at 0x7fc98cce8e10>]"
      ]
     },
     "execution_count": 5,
     "metadata": {},
     "output_type": "execute_result"
    }
   ],
   "source": [
    "urban_getNetwork(places)"
   ]
  },
  {
   "cell_type": "markdown",
   "metadata": {},
   "source": [
    "Markdown"
   ]
  },
  {
   "cell_type": "markdown",
   "metadata": {},
   "source": [
    "EDGE BEARINGS AND FREQUENCY, mitä tarkoittaa??"
   ]
  },
  {
   "cell_type": "markdown",
   "metadata": {},
   "source": [
    "POLAR PLOTS of the edge bearings, street network orientation"
   ]
  },
  {
   "cell_type": "code",
   "execution_count": 57,
   "metadata": {},
   "outputs": [],
   "source": []
  },
  {
   "cell_type": "code",
   "execution_count": 15,
   "metadata": {},
   "outputs": [],
   "source": []
  },
  {
   "cell_type": "markdown",
   "metadata": {},
   "source": []
  },
  {
   "cell_type": "code",
   "execution_count": null,
   "metadata": {},
   "outputs": [],
   "source": []
  },
  {
   "cell_type": "code",
   "execution_count": null,
   "metadata": {},
   "outputs": [],
   "source": []
  },
  {
   "cell_type": "code",
   "execution_count": null,
   "metadata": {},
   "outputs": [],
   "source": []
  },
  {
   "cell_type": "code",
   "execution_count": null,
   "metadata": {},
   "outputs": [],
   "source": []
  },
  {
   "cell_type": "code",
   "execution_count": null,
   "metadata": {},
   "outputs": [],
   "source": []
  }
 ],
 "metadata": {
  "kernelspec": {
   "display_name": "Python 3",
   "language": "python",
   "name": "python3"
  },
  "language_info": {
   "codemirror_mode": {
    "name": "ipython",
    "version": 3
   },
   "file_extension": ".py",
   "mimetype": "text/x-python",
   "name": "python",
   "nbconvert_exporter": "python",
   "pygments_lexer": "ipython3",
   "version": "3.6.5"
  }
 },
 "nbformat": 4,
 "nbformat_minor": 2
}
