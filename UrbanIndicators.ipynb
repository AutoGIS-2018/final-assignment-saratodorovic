{
 "cells": [
  {
   "cell_type": "markdown",
   "metadata": {},
   "source": [
    "### Automating GIS Processes 2018: Final Project work  \n",
    "\n",
    "## Analysis of Urban Design and Structure in Helsinki Neighborhoods\n",
    "\n",
    "A short introduction to the topic (present 2-4 research questions that you aim to answer)\n",
    "Short description of the datasets you used\n",
    "Short generic description of the methods you used\n",
    "Actual codes and visualizations to produce the results\n",
    "Description of the results (what should we understand and see from them?)\n",
    "Evaluate with healthy criticism the indicators, data and the analyses - What kind of assumptions, biases or uncertainties are related to the data and/or the analyses that you did? - Any other notes that the reader should know about the analysis\n",
    "\n",
    "**1. Introduction**  \n",
    "\n",
    "In the final project I will create indicators to analyse urban design and structure of different neighborhoods in Helsinki. The aim is to create tools that are applicable to any neighborhood. \n",
    "\n",
    "Comparing urban network structure in different suburbs\n",
    "Comparing betweenness centrality\n",
    "Visualizing street network and building structure\n",
    "\n",
    "\n",
    "**2. Data**  \n",
    "\n",
    "Open Street Map  \n",
    "Geoff Boeing's [GitHub repository](https://github.com/gboeing/osmnx-examples/tree/master/notebooks)\n",
    "\n",
    "**3. Methods**  \n",
    "\n",
    "Create functions to form different indicators for urban design analysis, such as street network orientation, building density and visualization. \n",
    "\n",
    "\n",
    "\n",
    "\n"
   ]
  },
  {
   "cell_type": "markdown",
   "metadata": {},
   "source": [
    "#### Data acquisition"
   ]
  },
  {
   "cell_type": "markdown",
   "metadata": {},
   "source": [
    "First defining the places of interest in a list and getting the OSM data for them  \n",
    "Loading all the needed moduls for the analysis. "
   ]
  },
  {
   "cell_type": "code",
   "execution_count": 1,
   "metadata": {},
   "outputs": [],
   "source": [
    "import osmnx as ox \n",
    "import geopandas as gpd\n",
    "import pandas as pd\n",
    "import matplotlib.pyplot as plt\n",
    "%matplotlib inline"
   ]
  },
  {
   "cell_type": "code",
   "execution_count": null,
   "metadata": {},
   "outputs": [],
   "source": [
    "# Places of interest\n",
    "\n",
    "places = ['Kamppi, Helsinki, Finland', 'Myllypuro']\n"
   ]
  }
 ],
 "metadata": {
  "kernelspec": {
   "display_name": "Python 3",
   "language": "python",
   "name": "python3"
  },
  "language_info": {
   "codemirror_mode": {
    "name": "ipython",
    "version": 3
   },
   "file_extension": ".py",
   "mimetype": "text/x-python",
   "name": "python",
   "nbconvert_exporter": "python",
   "pygments_lexer": "ipython3",
   "version": "3.6.5"
  }
 },
 "nbformat": 4,
 "nbformat_minor": 2
}
